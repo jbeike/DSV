{
 "metadata": {
  "name": ""
 },
 "nbformat": 3,
 "nbformat_minor": 0,
 "worksheets": [
  {
   "cells": [
    {
     "cell_type": "raw",
     "metadata": {},
     "source": [
      "TO DO:"
     ]
    },
    {
     "cell_type": "raw",
     "metadata": {},
     "source": []
    },
    {
     "cell_type": "markdown",
     "metadata": {},
     "source": [
      "#DFT mit Fensterung\n",
      "##Rechteckfensterung\n",
      "In diesem Notebook besch\u00e4ftigen wir uns mit der spektralen Darstellung von Zeitsignalen. F\u00fcr die praktische (= computerbasierte, nicht analytische) Signalverarbeitung kann man nur endliche Anzahl Samples von unendlich ausgedehnten Signalen verarbeiten. Das Herausschneiden dieser Samples nennt man *Fensterung*. Wir werden sehen, dass die Art der Fensterung (Anzahl der Samples, Fensterungsfunktion) einen gro\u00dfen Einfluss auf die Frequenz- und Amplitudenaufl\u00f6sung hat.\n"
     ]
    },
    {
     "cell_type": "code",
     "collapsed": false,
     "input": [
      "%pylab \n",
      "# Importiert alle numpy and matplotlib Funktionen in den gemeinsamen Namespace\n",
      "from numpy.fft import fft, fftshift, fftfreq\n",
      "import scipy.signal as sig\n",
      "#import scipy.interpolate as intp\n"
     ],
     "language": "python",
     "metadata": {},
     "outputs": [
      {
       "output_type": "stream",
       "stream": "stdout",
       "text": [
        "Using matplotlib backend: Qt4Agg\n",
        "Populating the interactive namespace from numpy and matplotlib\n"
       ]
      },
      {
       "output_type": "stream",
       "stream": "stderr",
       "text": [
        "WARNING: pylab import has clobbered these variables: ['fmax', 'f', 'fft', 'fmin']\n",
        "`%pylab --no-import-all` prevents importing * from pylab and numpy\n"
       ]
      }
     ],
     "prompt_number": 50
    },
    {
     "cell_type": "markdown",
     "metadata": {},
     "source": [
      "Zun\u00e4chst werden Abtastfrequenz und die Zahl der FFT-Punkte festgelegt. Daraus ergibt sich automatisch die L\u00e4nge des Messfensters $T_{mess} = T_S N_{FFT}$ und die Frequenzaufl\u00f6sung $\\Delta f = f_S / N_{FFT} = 1 / T_{mess}$:"
     ]
    },
    {
     "cell_type": "code",
     "collapsed": false,
     "input": [
      "f_S = 1e4 # sample frequency \n",
      "T_S = 1./f_S \n",
      "N_FFT = 500 \n",
      "T_mess = T_S * N_FFT\n",
      "Delta_f = f_S / N_FFT\n",
      "\n",
      "print 'T_mess =', T_mess, 's'\n",
      "print 'Delta f =', Delta_f, 'Hz'"
     ],
     "language": "python",
     "metadata": {},
     "outputs": [
      {
       "output_type": "stream",
       "stream": "stdout",
       "text": [
        "T_mess = 0.05 s\n",
        "Delta f = 20.0 Hz\n"
       ]
      }
     ],
     "prompt_number": 51
    },
    {
     "cell_type": "markdown",
     "metadata": {},
     "source": [
      "Um die Frequenz- und Amplitudenaufl\u00f6sung verschiedener Szenarien zu vergleichen, erzeugen wir uns ein Testsignal mit zwei T\u00f6nen unterschiedlicher Frequenz $f_a, f_b$ und Amplitude $A_a, A_b$ und \u00fcberlagertem wei\u00dfem gau\u00dfschem Rauschen (AWGN) mit der Standardabweichung $\\sigma$:"
     ]
    },
    {
     "cell_type": "code",
     "collapsed": false,
     "input": [
      "A_a = 2; f_a = Delta_f * 50 # Ton a, genau auf Auswertefrequenz\n",
      "A_b = 1; f_b = Delta_f * 52  # Ton b, auch genau auf Auswertefrequenz\n",
      "#A_b = 1; f_b = Delta_f * 52  # Ton b, zwischen Auswertefrequenzenzen\n",
      "DC = 1.\n",
      "sigma = 0.0 # standard deviation of AWGN\n",
      "fmin = 900  # untere Frequenz und\n",
      "fmax = 1100 # obere Frequenz f\u00fcr Spektrumsplots\n",
      "t = linspace(0, T_mess * 1.5, N_FFT * 1.5, endpoint = False) # Start / Stop / Anzahl\n",
      "y = DC + A_a * cos(2 * pi * t * f_a) + A_b * sin(2 * pi * t * f_b) + sigma * np.random.randn(len(t)) # y[n]\n",
      "print 'f_a = ', f_a, 'Hz'\n",
      "print 'f_b = ', f_b, 'Hz'\n",
      "plot(t,y)"
     ],
     "language": "python",
     "metadata": {},
     "outputs": [
      {
       "output_type": "stream",
       "stream": "stdout",
       "text": [
        "f_a =  1000.0 Hz\n",
        "f_b =  1040.0 Hz\n"
       ]
      },
      {
       "metadata": {},
       "output_type": "pyout",
       "prompt_number": 52,
       "text": [
        "[<matplotlib.lines.Line2D at 0x1c83ab90>]"
       ]
      }
     ],
     "prompt_number": 52
    },
    {
     "cell_type": "markdown",
     "metadata": {},
     "source": [
      "Zur Spektralanalyse wird die DFT der Zeitfunktion berechnet. In Python (und den meisten anderen Programmiersprachen f\u00fcr Scientific Computing) wird die DFT \u00fcber den kompletten Bereich $0 \\ldots f_S$ berechnet. Bei reellwertigen Zeitsignalen sind aber die Teilspektren zwischen $0 \\ldots f_S /2 $ und zwischen $f_S/2 \\ldots f_S$ symmetrisch zueinander, man beschr\u00e4nkt sich daher in der Darstellung meist auf den Bereich $0 \\ldots f_S /2 $. Damit trotzdem die Gesamtleistung auch im Frequenzbereich korrekt dargestellt wird (Parcevalsche Beziehung), wird das Spektrum (au\u00dfer bei $f = 0$) mit dem Faktor 2 skaliert. "
     ]
    },
    {
     "cell_type": "code",
     "collapsed": false,
     "input": [
      "# calculate DFT at f = [0 ... f_S[ = [0... f_S/2[, [-f_S/2 ... 0[ :\n",
      "Sy = 2 * fft(y[0:N_FFT], N_FFT) / N_FFT # skaliere f\u00fcr einseitiges Spektrum\n",
      "Sy[0] = Sy[0] / 2 # korrigiere DC-Wert\n",
      "f = fftfreq(N_FFT, T_S) \n",
      "# freq. points at [0... f_S/2[, [-f_S/2 ..\n",
      "figure(2)\n",
      "subplot(2,1,1); stem(f, abs(Sy)) \n",
      "xlim(fmin, fmax); ylim(-0.1, max(A_a, A_b)*1.1)\n",
      "ylabel('|S(f)| ->')\n",
      "subplot(2,1,2); stem(f, 20*log10(abs(Sy)), bottom = -80) \n",
      "xlim(fmin, fmax); ylim(-80, max(20*log10(A_a), 20*log10(A_b)))\n",
      "xlabel('f ->'); ylabel('|S(f)| / dB ->')"
     ],
     "language": "python",
     "metadata": {},
     "outputs": [
      {
       "metadata": {},
       "output_type": "pyout",
       "prompt_number": 53,
       "text": [
        "<matplotlib.text.Text at 0x1eee8910>"
       ]
      }
     ],
     "prompt_number": 53
    },
    {
     "cell_type": "markdown",
     "metadata": {},
     "source": [
      "Wir berechnen die DFT aus $N_{FFT}$ Datenpunkten und erhalten $N_{FFT}$ Frequenzpunkte. *Wenn* wir uns ein zeitdiskretes, unendlich ausgedehntes Signal $y[n]$ vorstellen, bei dem sich diese $N_{FFT}$ Datenpunkte periodisch wiederholen, liefert die **DTFT** exakt das gleiche Ergebnis wie die **DFT**. Wenn wir uns jetzt noch vorstellen, dass $y[n]$ aus einem zeitkontinuierlichen  Tiefpasssignal $y(t)$ durch Abtastung ohne Aliasing gewonnen wurde, liefert die DFT an den $N_{FFT}$ Frequenzpunkten exakt das gleichen Spektralwerte wie die **CFT**. Das k\u00f6nnen Sie in der Simulation ausprobieren, indem Sie Signalfrequenzen w\u00e4hlen, die exakt auf die Auswertefrequenzen der DFT fallen. Liegen die Signalfrequenzenen dazwischen, bekommen Sie Frequenz- und Amplitudenfehler."
     ]
    },
    {
     "cell_type": "code",
     "collapsed": false,
     "input": [
      "figure(3)\n",
      "subplot(2,1,1)\n",
      "w = sig.windows.hamming(len(t))\n",
      "X = fft(y * w, N_FFT) / N_FFT\n",
      "stem(f, 2 * abs(X))\n",
      "xlim(fmin, fmax); ylim(-0.1, max(A_a, A_b))\n",
      "w = sig.windows.hann(len(t))\n",
      "X = fft(y*w,N_FFT)/N_FFT\n",
      "subplot(2,1,2)\n",
      "stem(f, 2 * abs(X))\n",
      "xlim(fmin, fmax); ylim(-0.1, max(A_a, A_b))\n"
     ],
     "language": "python",
     "metadata": {},
     "outputs": [
      {
       "metadata": {},
       "output_type": "pyout",
       "prompt_number": 54,
       "text": [
        "(-0.1, 2)"
       ]
      }
     ],
     "prompt_number": 54
    },
    {
     "cell_type": "code",
     "collapsed": false,
     "input": [],
     "language": "python",
     "metadata": {},
     "outputs": [],
     "prompt_number": 55
    }
   ],
   "metadata": {}
  }
 ]
}